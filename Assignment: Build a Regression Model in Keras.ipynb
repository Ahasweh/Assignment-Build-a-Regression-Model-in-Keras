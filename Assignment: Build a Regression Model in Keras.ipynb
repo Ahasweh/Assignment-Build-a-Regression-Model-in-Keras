{
 "cells": [
  {
   "cell_type": "markdown",
   "metadata": {},
   "source": [
    "# Assignment: Build a Regression Model in Keras"
   ]
  },
  {
   "cell_type": "markdown",
   "metadata": {},
   "source": [
    "Install Requored Libraries \n"
   ]
  },
  {
   "cell_type": "code",
   "execution_count": null,
   "metadata": {},
   "outputs": [],
   "source": [
    "# Install all Libraries required for this assignment are listed below. \n",
    "\n",
    "!pip install numpy==2.0.2\n",
    "!pip install pandas==2.2.2\n",
    "!pip install tensorflow==2.18.0\n",
    "!pip install scikit-learn"
   ]
  },
  {
   "cell_type": "markdown",
   "metadata": {},
   "source": [
    "# A. Build a baseline model (5 marks) \n",
    "\n",
    "Use the Keras library to build a neural network with the following:\n",
    "\n",
    "- One hidden layer of 10 nodes, and a ReLU activation function\n",
    "\n",
    "- Use the adam optimizer and the mean squared error  as the loss function.\n",
    "\n",
    "1. Randomly split the data into a training and test sets by holding 30% of the data for testing. You can use the \n",
    "train_test_split\n",
    "helper function from Scikit-learn.\n",
    "\n",
    "2. Train the model on the training data using 50 epochs.\n",
    "\n",
    "3. Evaluate the model on the test data and compute the mean squared error between the predicted concrete strength and the actual concrete strength. You can use the mean_squared_error function from Scikit-learn.\n",
    "\n",
    "4. Repeat steps 1 - 3, 50 times, i.e., create a list of 50 mean squared errors.\n",
    "\n",
    "5. Report the mean and the standard deviation of the mean squared errors.\n",
    "\n",
    "Submit your Jupyter Notebook with your code and comments.\n"
   ]
  },
  {
   "cell_type": "code",
   "execution_count": null,
   "metadata": {},
   "outputs": [],
   "source": [
    "# import the Keras, Pandas, and Numpy Libraries\n",
    "import pandas as pd\n",
    "import numpy as np\n",
    "import keras\n",
    "from sklearn.model_selection import train_test_split\n",
    "from sklearn.metrics import mean_squared_error\n",
    "\n",
    "# Download the dataset into pandas library \n",
    "# Please download the data to your project folder before calling this code \n",
    "\n",
    "filepath='concrete_data.csv'\n",
    "concrete_data = pd.read_csv(filepath)\n",
    "\n",
    "concrete_data.head()\n"
   ]
  },
  {
   "cell_type": "code",
   "execution_count": null,
   "metadata": {},
   "outputs": [],
   "source": [
    "# Read data column names\n",
    "concrete_data_columns = concrete_data.columns\n",
    "print(concrete_data_columns)\n",
    "\n",
    "# Split data into predictors and target data\n",
    "predictors = concrete_data[concrete_data_columns[concrete_data_columns != 'Strength']] # all columns except Strength\n",
    "target = concrete_data['Strength'] # Strength column\n",
    "\n",
    "\n"
   ]
  },
  {
   "cell_type": "code",
   "execution_count": null,
   "metadata": {},
   "outputs": [],
   "source": [
    "# Import Keras packages\n",
    "from keras.models import Sequential\n",
    "from keras.layers import Dense\n",
    "from keras.layers import Input\n"
   ]
  },
  {
   "cell_type": "code",
   "execution_count": null,
   "metadata": {},
   "outputs": [],
   "source": [
    "# define regression model\n",
    "def regression_model():\n",
    "    # create model\n",
    "    model = Sequential()\n",
    "    model.add(Input(shape=(8,)))\n",
    "    model.add(Dense(10, activation='relu'))\n",
    "    model.add(Dense(1))\n",
    "    \n",
    "    # compile model\n",
    "    model.compile(optimizer='adam', loss='mean_squared_error')\n",
    "    return model"
   ]
  },
  {
   "cell_type": "code",
   "execution_count": null,
   "metadata": {},
   "outputs": [],
   "source": [
    "# build the model\n",
    "model = regression_model()\n",
    "\n",
    "# Split the data into training and test sets\n",
    "# Train the model on the training data using 50 epochs\n",
    "X_train, X_test, y_train, y_test = train_test_split(predictors, target, test_size=0.3, random_state=42)\n",
    "\n",
    "\n",
    "model.fit(X_train, y_train, validation_data=(X_test, y_test), epochs=50, verbose=2)\n",
    "\n",
    "\n"
   ]
  },
  {
   "cell_type": "code",
   "execution_count": null,
   "metadata": {},
   "outputs": [],
   "source": [
    "# List to store mean squared errors\n",
    "mse_list = []\n",
    "\n",
    "# Repeat the split and train steps 50 times\n",
    "for i in range(50):\n",
    "    # Split the data into training and test sets\n",
    "    X_train, X_test, y_train, y_test = train_test_split(predictors, target, test_size=0.3, random_state=i)\n",
    "    \n",
    "    # Create and train the model\n",
    "    model = regression_model()\n",
    "    model.fit(X_train, y_train, validation_data=(X_test, y_test), epochs=50, verbose=0)\n",
    "    \n",
    "    # Predict on the test set\n",
    "    y_pred = model.predict(X_test)\n",
    "    # Calculate mean squared error\n",
    "    mse = mean_squared_error(y_test, y_pred)  # Now this will work\n",
    "    mse_list.append(mse)\n",
    "\n",
    "# Print the list of mean squared errors\n",
    "print(mse_list)"
   ]
  },
  {
   "cell_type": "code",
   "execution_count": null,
   "metadata": {},
   "outputs": [],
   "source": [
    "#  Report the mean and the standard deviation of the mean squared errors.\n",
    "\n",
    "mean_mse = np.mean(mse_list)  # Calculate the mean of the MSEs\n",
    "std_mse = np.std(mse_list)    # Calculate the standard deviation of the MSEs\n",
    "\n",
    "# Print the results\n",
    "print(f\"Mean of Mean Squared Errors: {mean_mse}\")\n",
    "print(f\"Standard Deviation of Mean Squared Errors: {std_mse}\")"
   ]
  },
  {
   "cell_type": "markdown",
   "metadata": {},
   "source": [
    "# B. Normalize the data (5 marks) \n",
    "\n",
    "Repeat Part A but use a normalized version of the data. Recall that one way to normalize the data is by subtracting the mean from the individual predictors and dividing by the standard deviation.\n",
    "\n",
    "How does the mean of the mean squared errors compare to that from Step A?"
   ]
  },
  {
   "cell_type": "code",
   "execution_count": null,
   "metadata": {},
   "outputs": [],
   "source": [
    "\n",
    "# normalize the predictors data\n",
    "predictors_norm = (predictors - predictors.mean()) / predictors.std()\n",
    "predictors_norm.head()\n",
    "\n",
    "# List to store mean squared errors\n",
    "mse_list = []\n",
    "\n",
    "\n",
    "# Repeat the split and train steps 50 times\n",
    "for i in range(50):\n",
    "    # Split the data into training and test sets\n",
    "    X_train, X_test, y_train, y_test = train_test_split(predictors_norm, target, test_size=0.3, random_state=i)\n",
    "    \n",
    "    # Create and train the model\n",
    "    model = regression_model()\n",
    "    model.fit(X_train, y_train, validation_data=(X_test, y_test), epochs=50, verbose=0)\n",
    "    \n",
    "    # Predict on the test set\n",
    "    y_pred = model.predict(X_test)\n",
    "    \n",
    "    # Calculate mean squared error\n",
    "    mse = mean_squared_error(y_test, y_pred)  # Now this will work\n",
    "    mse_list.append(mse)\n",
    "\n",
    "# Print the list of mean squared errors\n",
    "print(mse_list)\n",
    "\n",
    "#  Report the mean and the standard deviation of the mean squared errors.\n",
    "\n",
    "mean_mse = np.mean(mse_list)  # Calculate the mean of the MSEs\n",
    "std_mse = np.std(mse_list)    # Calculate the standard deviation of the MSEs\n",
    "\n",
    "# Print the results\n",
    "print(f\"Mean of Mean Squared Errors: {mean_mse}\")\n",
    "print(f\"Standard Deviation of Mean Squared Errors: {std_mse}\")"
   ]
  },
  {
   "cell_type": "markdown",
   "metadata": {},
   "source": [
    "#### How does the mean of the mean squared errors compare to that from Step A?\n",
    "\n",
    "#### Answer: the mean of the mean squared errors has been reduced from 389.29 to 368.07"
   ]
  },
  {
   "cell_type": "markdown",
   "metadata": {},
   "source": [
    "# C. Increate the number of epochs (5 marks)\n",
    "\n",
    "Repeat Part B but use 100 epochs this time for training.\n",
    "\n"
   ]
  },
  {
   "cell_type": "code",
   "execution_count": null,
   "metadata": {},
   "outputs": [],
   "source": [
    "\n",
    "# Repeat the split and train steps 100 times\n",
    "mse_list = []\n",
    "\n",
    "for i in range(50):\n",
    "    # Split the data into training and test sets\n",
    "    X_train, X_test, y_train, y_test = train_test_split(predictors_norm, target, test_size=0.3, random_state=i)\n",
    "    \n",
    "    # Create and train the model\n",
    "    model = regression_model()\n",
    "    model.fit(X_train, y_train, validation_data=(X_test, y_test), epochs=100, verbose=0)\n",
    "    \n",
    "    # Predict on the test set\n",
    "    y_pred = model.predict(X_test)\n",
    "    \n",
    "    # Calculate mean squared error\n",
    "    mse = mean_squared_error(y_test, y_pred)  # Now this will work\n",
    "    mse_list.append(mse)\n",
    "\n",
    "# Print the list of mean squared errors\n",
    "print(mse_list)\n",
    "\n",
    "#  Report the mean and the standard deviation of the mean squared errors.\n",
    "\n",
    "mean_mse = np.mean(mse_list)  # Calculate the mean of the MSEs\n",
    "std_mse = np.std(mse_list)    # Calculate the standard deviation of the MSEs\n",
    "\n",
    "# Print the results\n",
    "print(f\"Mean of Mean Squared Errors: {mean_mse}\")\n",
    "print(f\"Standard Deviation of Mean Squared Errors: {std_mse}\")"
   ]
  },
  {
   "cell_type": "markdown",
   "metadata": {},
   "source": [
    "## How does the mean of the mean squared errors compare to that from Step B?\n",
    "## the mean has been "
   ]
  },
  {
   "cell_type": "markdown",
   "metadata": {},
   "source": [
    "# D. Increase the number of hidden layers (5 marks)\n",
    "\n",
    "Repeat part B but use a neural network with the following instead:\n",
    "\n",
    "- Three hidden layers, each of 10 nodes and ReLU activation function.\n",
    "\n",
    "How does the mean of the mean squared errors compare to that from Step B?"
   ]
  },
  {
   "cell_type": "code",
   "execution_count": null,
   "metadata": {},
   "outputs": [],
   "source": [
    "# increase the number of hiddern layers to 3 each of 10 nodes and ReLU activation function.\n",
    "mse_list = []\n",
    "\n",
    "def regression_model():\n",
    "    # create model\n",
    "    model = Sequential()\n",
    "    model.add(Input(shape=(8,)))\n",
    "    model.add(Dense(10, activation='relu'))\n",
    "    model.add(Dense(10, activation='relu'))\n",
    "    model.add(Dense(10, activation='relu'))\n",
    "    model.add(Dense(1))\n",
    "    \n",
    "    # compile model\n",
    "    model.compile(optimizer='adam', loss='mean_squared_error')\n",
    "    return model\n",
    "# Repeat the split and train steps 50 times\n",
    "for i in range(50):\n",
    "    # Split the data into training and test sets\n",
    "    X_train, X_test, y_train, y_test = train_test_split(predictors_norm, target, test_size=0.3, random_state=i)\n",
    "    \n",
    "    # Create and train the model\n",
    "    model = regression_model()\n",
    "    model.fit(X_train, y_train, validation_data=(X_test, y_test), epochs=50, verbose=0)\n",
    "    \n",
    "    # Predict on the test set\n",
    "    y_pred = model.predict(X_test, verbose=0)\n",
    "    \n",
    "    \n",
    "    # Calculate mean squared error\n",
    "    mse = mean_squared_error(y_test, y_pred)  # Now this will work\n",
    "    mse_list.append(mse)\n",
    "\n",
    "# Print the list of mean squared errors\n",
    "print(mse_list)\n",
    "\n",
    "#  Report the mean and the standard deviation of the mean squared errors.\n",
    "\n",
    "mean_mse = np.mean(mse_list)  # Calculate the mean of the MSEs\n",
    "std_mse = np.std(mse_list)    # Calculate the standard deviation of the MSEs\n",
    "\n",
    "# Print the results\n",
    "print(f\"Mean of Mean Squared Errors: {mean_mse}\")\n",
    "print(f\"Standard Deviation of Mean Squared Errors: {std_mse}\")"
   ]
  }
 ],
 "metadata": {
  "kernelspec": {
   "display_name": "dl_env",
   "language": "python",
   "name": "python3"
  },
  "language_info": {
   "codemirror_mode": {
    "name": "ipython",
    "version": 3
   },
   "file_extension": ".py",
   "mimetype": "text/x-python",
   "name": "python",
   "nbconvert_exporter": "python",
   "pygments_lexer": "ipython3",
   "version": "3.12.0"
  }
 },
 "nbformat": 4,
 "nbformat_minor": 2
}
